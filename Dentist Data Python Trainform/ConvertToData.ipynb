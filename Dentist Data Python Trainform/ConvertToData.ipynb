{
 "cells": [
  {
   "cell_type": "markdown",
   "metadata": {},
   "source": [
    "# 產生 Trainning 的 DataSet\n",
    "---"
   ]
  },
  {
   "cell_type": "code",
   "execution_count": 1,
   "metadata": {},
   "outputs": [],
   "source": [
    "import numpy as np\n",
    "import cv2\n",
    "import os\n",
    "from tqdm import tqdm"
   ]
  },
  {
   "cell_type": "code",
   "execution_count": 2,
   "metadata": {},
   "outputs": [],
   "source": [
    "# 這邊是要把要做的 List 塞進去\n",
    "# 再來是設定 Output 檔案 \n",
    "# !! (一定要有反斜線做結尾) !!\n",
    "# 原本資料       => 日期 牙齒\n",
    "# 原 Label 資料  => 日期 牙齒_Label\n",
    "# Trainning資料  => 日期 牙齒_Trainning\n",
    "DoOrgList =[\n",
    "    \"D:/Dentist/Data/ScanData/2018.10.18/20181016_Incisor/\",\n",
    "    \"D:/Dentist/Data/ScanData/2018.10.18/20181016_Incisor2/\",\n",
    "    \"D:/Dentist/Data/ScanData/2018.10.18/20181016_Incisor3/\",\n",
    "]\n",
    "PicMinNumber = 60\n",
    "PicMaxNumber = 200\n",
    "CutIndex = 500\n",
    "\n",
    "\n",
    "# 人工 Label 的 & 最後 Trainning 要用的\n",
    "LabelPath = \"_Label\"\n",
    "InputPath = \"_Input\"\n",
    "TrainningPath = \"_Trainning\"\n",
    "\n",
    "# 這邊是 SegNet 相關的設定\n",
    "TrainTxtLocation = \"D:/Dentist/Data/ScanData/2018.10.18/train.txt\"\n",
    "\n",
    "WindowsDataLocation = \"D:/Dentist/Data/ScanData/\"\n",
    "UbuntuDataLocation = \"/home/cgal/Desktop/DentistData/\""
   ]
  },
  {
   "cell_type": "code",
   "execution_count": 3,
   "metadata": {},
   "outputs": [],
   "source": [
    "# 把資料夾的名稱 Append 某個 String\n",
    "def FileNameAppend(FileName, Type):\n",
    "    return FileName[:-1] + Type + \"/\""
   ]
  },
  {
   "cell_type": "code",
   "execution_count": 4,
   "metadata": {
    "scrolled": false
   },
   "outputs": [],
   "source": [
    "# 後面會用到的變數\n",
    "Org_FileNameList = []\n",
    "Label_FileNameList = []\n",
    "Input_FileNameList = []\n",
    "Trainning_FileNameList= []\n",
    "OrgImageList = []\n",
    "# TrainImageList = []\n",
    "\n",
    "def CheckIsFileMissing():\n",
    "    # Check 有沒有漏轉檔案 & 加進要處理的 List 中\n",
    "    for i in range(len(DoOrgList)):\n",
    "        for picIndex in range(PicMinNumber, PicMaxNumber + 1):\n",
    "            # 路徑\n",
    "            OrgFileName = DoOrgList[i] + str(picIndex) + \".png\"\n",
    "            LabelFileName = FileNameAppend(DoOrgList[i], LabelPath) + str(picIndex) + \".png\"\n",
    "            InputFileName = FileNameAppend(DoOrgList[i], InputPath) + str(picIndex) + \".png\"\n",
    "            TrainningFileName = FileNameAppend(DoOrgList[i], TrainningPath) + str(picIndex) + \".png\"\n",
    "            imgOrg  = cv2.imread(OrgFileName, cv2.IMREAD_GRAYSCALE)\n",
    "\n",
    "            if(imgOrg is None):\n",
    "                print(FileName)\n",
    "                return True\n",
    "            \n",
    "            # 加到 List 中\n",
    "            Org_FileNameList.append(OrgFileName)\n",
    "            Label_FileNameList.append(LabelFileName)\n",
    "            Input_FileNameList.append(InputFileName)\n",
    "            Trainning_FileNameList.append(TrainningFileName)\n",
    "            OrgImageList.append(imgOrg)\n",
    "    return False"
   ]
  },
  {
   "cell_type": "code",
   "execution_count": 5,
   "metadata": {
    "scrolled": true
   },
   "outputs": [
    {
     "name": "stdout",
     "output_type": "stream",
     "text": [
      "沒有漏失\n"
     ]
    }
   ],
   "source": [
    "print(\"有漏失\" if CheckIsFileMissing() else \"沒有漏失\")"
   ]
  },
  {
   "cell_type": "code",
   "execution_count": 6,
   "metadata": {},
   "outputs": [
    {
     "data": {
      "text/plain": [
       "423"
      ]
     },
     "execution_count": 6,
     "metadata": {},
     "output_type": "execute_result"
    }
   ],
   "source": [
    "len(OrgImageList)"
   ]
  },
  {
   "cell_type": "code",
   "execution_count": 7,
   "metadata": {},
   "outputs": [
    {
     "name": "stdout",
     "output_type": "stream",
     "text": [
      "250\n",
      "1024\n",
      "uint8\n"
     ]
    }
   ],
   "source": [
    "row, col = OrgImageList[0].shape\n",
    "print(row)\n",
    "print(col)\n",
    "print(OrgImageList[0].dtype)"
   ]
  },
  {
   "cell_type": "markdown",
   "metadata": {},
   "source": [
    "## 資料轉換\n",
    "---\n",
    "1. 要先把資料 Resize\n",
    "2. 圖片中白的 => 0\n",
    "3. 圖片中黑的 => 1"
   ]
  },
  {
   "cell_type": "code",
   "execution_count": 8,
   "metadata": {},
   "outputs": [],
   "source": [
    "# 假設 Trainning 的資料夾沒有建好\n",
    "# 會重建一個\n",
    "for i in range(len(DoOrgList)):\n",
    "    if(not os.path.exists(FileNameAppend(DoOrgList[i], TrainningPath))):\n",
    "        os.mkdir(FileNameAppend(DoOrgList[i], TrainningPath))\n",
    "    \n",
    "    if(not os.path.exists(FileNameAppend(DoOrgList[i], InputPath))):\n",
    "        os.mkdir(FileNameAppend(DoOrgList[i], InputPath))"
   ]
  },
  {
   "cell_type": "code",
   "execution_count": 9,
   "metadata": {
    "scrolled": true
   },
   "outputs": [
    {
     "name": "stderr",
     "output_type": "stream",
     "text": [
      "100%|████████████████████████████████████████████████████████████████████████████████| 423/423 [03:21<00:00,  1.92it/s]\n"
     ]
    }
   ],
   "source": [
    "# 開始 Resize & 轉換資料\n",
    "# SmallImageList = []\n",
    "for i in tqdm(range(len(OrgImageList))):\n",
    "    # Resize\n",
    "    # img = cv2.resize(ImageList[i], (row / 4, col / 4), interpolation=cv2.INTER_NEAREST)\n",
    "    # print(img)\n",
    "    # print(img.shape)\n",
    "    # break\n",
    "    \n",
    "    # 改圖片\n",
    "    SmallOrgImage = np.zeros((row, min(col, CutIndex)), dtype=np.uint8)\n",
    "    SmallImage = np.zeros((row, min(col, CutIndex)), dtype=np.uint8)\n",
    "    for r in range(row):\n",
    "        for c in range(min(col, CutIndex)):\n",
    "            # 原圖直接丟回去\n",
    "            SmallOrgImage[r][c] = OrgImageList[i][r][c]\n",
    "            \n",
    "            # 黑\n",
    "            if(OrgImageList[i][r][c] == 0):\n",
    "                SmallImage[r][c] = 1\n",
    "                \n",
    "            # 白\n",
    "            elif(OrgImageList[i][r][c] == 255):\n",
    "                SmallImage[r][c] = 0\n",
    "                \n",
    "    # 丟進 Stack\n",
    "    # SmallImageList.append(SmallImage)\n",
    "        \n",
    "    # 存出目錄\n",
    "    SaveLocation = Input_FileNameList[i]\n",
    "    cv2.imwrite(SaveLocation, SmallOrgImage)\n",
    "    SaveLocation = Trainning_FileNameList[i]\n",
    "    cv2.imwrite(SaveLocation, SmallImage)"
   ]
  },
  {
   "cell_type": "markdown",
   "metadata": {},
   "source": [
    "## 寫 Train.txt\n",
    "---\n",
    "InputImage LabelImage "
   ]
  },
  {
   "cell_type": "code",
   "execution_count": 10,
   "metadata": {},
   "outputs": [],
   "source": [
    "# 檔案名字從 Windows 轉道 Ubuntu\n",
    "def FileNameWindowsToUbuntu(FileName):\n",
    "    return FileName.replace(WindowsDataLocation, UbuntuDataLocation)"
   ]
  },
  {
   "cell_type": "code",
   "execution_count": 11,
   "metadata": {},
   "outputs": [],
   "source": [
    "TrainScript = \"\"\n",
    "for i in range(len(Label_FileNameList)):\n",
    "    TrainScript += FileNameWindowsToUbuntu(Input_FileNameList[i]) + \" \" + \\\n",
    "                        FileNameWindowsToUbuntu(Trainning_FileNameList[i]) + \"\\n\""
   ]
  },
  {
   "cell_type": "code",
   "execution_count": 12,
   "metadata": {},
   "outputs": [],
   "source": [
    "file = open(TrainTxtLocation, \"w\")\n",
    "file.write(TrainScript)\n",
    "file.close()"
   ]
  },
  {
   "cell_type": "markdown",
   "metadata": {},
   "source": [
    "## 開始丟到 Ubuntu 上 Trainning 囉\n",
    "---\n",
    "1. 記得只要丟 原圖 & Trainning的\n",
    "2. 還有 Train.txt"
   ]
  }
 ],
 "metadata": {
  "kernelspec": {
   "display_name": "Python 3",
   "language": "python",
   "name": "python3"
  },
  "language_info": {
   "codemirror_mode": {
    "name": "ipython",
    "version": 3
   },
   "file_extension": ".py",
   "mimetype": "text/x-python",
   "name": "python",
   "nbconvert_exporter": "python",
   "pygments_lexer": "ipython3",
   "version": "3.5.4"
  }
 },
 "nbformat": 4,
 "nbformat_minor": 2
}
