{
 "cells": [
  {
   "cell_type": "code",
   "execution_count": 1,
   "metadata": {},
   "outputs": [],
   "source": [
    "import numpy as np\n",
    "import cv2\n",
    "import os\n",
    "from tqdm import tqdm"
   ]
  },
  {
   "cell_type": "code",
   "execution_count": 2,
   "metadata": {},
   "outputs": [],
   "source": [
    "# 這邊是要把要做的 List 塞進去\n",
    "# 再來是設定 Output 檔案 \n",
    "# !! (一定要有反斜線做結尾) !!\n",
    "# 原本資料       => 日期 牙齒\n",
    "# 原 Label 資料  => 日期 牙齒_Label\n",
    "# Trainning資料  => 日期 牙齒_Trainning\n",
    "DoOrgList =[\n",
    "    \"D:/Dentist/Data/ScanData/2018.10.18/20181016_Incisor/\",\n",
    "    \"D:/Dentist/Data/ScanData/2018.10.18/20181016_Incisor2/\",\n",
    "    \"D:/Dentist/Data/ScanData/2018.10.18/20181016_Incisor3/\",\n",
    "]\n",
    "\n",
    "LabelOrgList = [\n",
    "    \"D:/Dentist/Data/ScanData/2018.10.18/20181016_Incisor_Label/\",\n",
    "    \"D:/Dentist/Data/ScanData/2018.10.18/20181016_Incisor2_Label/\",\n",
    "    \"D:/Dentist/Data/ScanData/2018.10.18/20181016_Incisor3_Label/\",\n",
    "]\n",
    "\n",
    "PicMinNumber = 60\n",
    "PicMaxNumber = 200\n",
    "RowCutIndex = 50\n",
    "CutIndex = 500\n",
    "RadiusBorder = 3\n",
    "\n",
    "# 人工 Input 的 & 最後 Trainning 要用的\n",
    "InputPath = \"_InputBorder3Class\"\n",
    "TrainningPath = \"_TrainningBorder3Class\"\n",
    "\n",
    "# 這邊是 SegNet 相關的設定\n",
    "TrainTxtLocation = \"D:/Dentist/Data/ScanData/2018.10.18/train.txt\"\n",
    "\n",
    "WindowsDataLocation = \"D:/Dentist/Data/ScanData/2018.10.18/\"\n",
    "UbuntuDataLocation = \"/home/cgal/Desktop/DentistData/2018.11.13_Border_Test_3Class/\""
   ]
  },
  {
   "cell_type": "code",
   "execution_count": 3,
   "metadata": {},
   "outputs": [],
   "source": [
    "# 把資料夾的名稱 Append 某個 String\n",
    "def FileNameAppend(FileName, Type):\n",
    "    return FileName[:-1] + Type + \"/\""
   ]
  },
  {
   "cell_type": "code",
   "execution_count": 4,
   "metadata": {},
   "outputs": [],
   "source": [
    "# 後面會用到的變數\n",
    "Org_FileNameList = []\n",
    "Label_FileNameList = []\n",
    "Input_FileNameList = []\n",
    "Trainning_FileNameList= []\n",
    "\n",
    "OrgImageList = []\n",
    "LabelImageList = []\n",
    "\n",
    "def CheckIsFileMissing():\n",
    "    global Org_FileNameList, Label_FileNameList, Input_FileNameList, Trainning_FileNameList\n",
    "    global OrgImageList, LabelImageList\n",
    "    \n",
    "    # Check 有沒有漏轉檔案 & 加進要處理的 List 中\n",
    "    for i in range(len(DoOrgList)):\n",
    "        for picIndex in range(PicMinNumber, PicMaxNumber + 1):\n",
    "            # 路徑\n",
    "            OrgFileName = DoOrgList[i] + str(picIndex) + \".png\"\n",
    "            LabelFileName = LabelOrgList[i] + str(picIndex) + \".png\"\n",
    "            \n",
    "            # 0 ~ 250 可以拆成 5 個\n",
    "            for sliceIndex in range(5):\n",
    "                InputFileName = FileNameAppend(DoOrgList[i], InputPath) + str(picIndex) + \"_\" + str(sliceIndex) + \".png\"\n",
    "                TrainningFileName = FileNameAppend(DoOrgList[i], TrainningPath) + str(picIndex) + \"_\" + str(sliceIndex) + \".png\"\n",
    "                \n",
    "                Input_FileNameList.append(InputFileName)\n",
    "                Trainning_FileNameList.append(TrainningFileName)\n",
    "                \n",
    "            # 圖片\n",
    "            imgOrg  = cv2.imread(OrgFileName, cv2.IMREAD_GRAYSCALE)\n",
    "            imgLabel = cv2.imread(LabelFileName, cv2.IMREAD_GRAYSCALE)\n",
    "\n",
    "            if(imgOrg is None):\n",
    "                print(OrgFileName)\n",
    "                return True\n",
    "            \n",
    "            if(imgLabel is None):\n",
    "                print(LabelFileName)\n",
    "                return True\n",
    "            \n",
    "            # 加到 List 中\n",
    "            Org_FileNameList.append(OrgFileName)\n",
    "            Label_FileNameList.append(LabelFileName)\n",
    "            \n",
    "            # 圖片 List\n",
    "            OrgImageList.append(imgOrg)\n",
    "            LabelImageList.append(imgLabel)\n",
    "    return False"
   ]
  },
  {
   "cell_type": "code",
   "execution_count": 5,
   "metadata": {},
   "outputs": [
    {
     "name": "stdout",
     "output_type": "stream",
     "text": [
      "沒有漏失\n"
     ]
    }
   ],
   "source": [
    "print(\"有漏失\" if CheckIsFileMissing() else \"沒有漏失\")"
   ]
  },
  {
   "cell_type": "code",
   "execution_count": 6,
   "metadata": {},
   "outputs": [
    {
     "data": {
      "text/plain": [
       "423"
      ]
     },
     "execution_count": 6,
     "metadata": {},
     "output_type": "execute_result"
    }
   ],
   "source": [
    "len(OrgImageList)"
   ]
  },
  {
   "cell_type": "code",
   "execution_count": 7,
   "metadata": {},
   "outputs": [
    {
     "name": "stdout",
     "output_type": "stream",
     "text": [
      "250\n",
      "1024\n",
      "uint8\n"
     ]
    }
   ],
   "source": [
    "row, col = OrgImageList[0].shape\n",
    "print(row)\n",
    "print(col)\n",
    "print(OrgImageList[0].dtype)"
   ]
  },
  {
   "cell_type": "code",
   "execution_count": 8,
   "metadata": {},
   "outputs": [],
   "source": [
    "assert row % RowCutIndex == 0, \"RowCutIndex 要整除 Row\"\n",
    "rowOffset = int(row / RowCutIndex)"
   ]
  },
  {
   "cell_type": "markdown",
   "metadata": {},
   "source": [
    "## 資料轉換\n",
    "---\n",
    "1. 要先把資料 Resize\n",
    "2. 圖片中白的 => 0\n",
    "3. 圖片中黑的 => 1"
   ]
  },
  {
   "cell_type": "code",
   "execution_count": 9,
   "metadata": {},
   "outputs": [],
   "source": [
    "# 假設 Trainning 的資料夾沒有建好\n",
    "# 會重建一個\n",
    "for i in range(len(DoOrgList)):\n",
    "    if(not os.path.exists(FileNameAppend(DoOrgList[i], TrainningPath))):\n",
    "        os.mkdir(FileNameAppend(DoOrgList[i], TrainningPath))\n",
    "    \n",
    "    if(not os.path.exists(FileNameAppend(DoOrgList[i], InputPath))):\n",
    "        os.mkdir(FileNameAppend(DoOrgList[i], InputPath))"
   ]
  },
  {
   "cell_type": "code",
   "execution_count": 10,
   "metadata": {},
   "outputs": [],
   "source": [
    "# 判斷這個點的半徑內，是不是邊界\n",
    "def CheckIfIsBorder(Image, rowIndex, colIndex):\n",
    "    global row, col, RadiusBorder\n",
    "    minRow = max(0,   rowIndex - RadiusBorder)\n",
    "    maxRow = min(row, rowIndex + RadiusBorder)\n",
    "    minCol = max(0,   colIndex - RadiusBorder)\n",
    "    maxCol = min(col, colIndex + RadiusBorder)\n",
    "    \n",
    "    value = Image[rowIndex][colIndex]\n",
    "    for r in range(minRow, maxRow):\n",
    "        for c in range(minCol, maxCol):\n",
    "            if Image[r][c] != value:\n",
    "                return True\n",
    "    return False"
   ]
  },
  {
   "cell_type": "code",
   "execution_count": 11,
   "metadata": {},
   "outputs": [],
   "source": [
    "# 這邊是只輸出一張 BGR 的圖片\n",
    "def BGRWithBorder():\n",
    "    global Org_FileNameList, Label_FileNameList, Input_FileNameList, Trainning_FileNameList\n",
    "    global OrgImageList, LabelImageList\n",
    "    global CutIndex, RowCutIndex, rowOffset\n",
    "    \n",
    "    # 這邊是要刪除的 List，以防寫出檔案的時候有錯誤\n",
    "    deleteIndex = []\n",
    "    \n",
    "    for i in tqdm(range(len(Org_FileNameList))):\n",
    "        # 每個 200 張 要跳過不做\n",
    "        if (Org_FileNameList[i][-7:] == \"200.png\" or Org_FileNameList[i][-7:] == \"199.png\"):\n",
    "            for j in range(rowOffset):\n",
    "                deleteIndex.append(i * rowOffset + j)\n",
    "            continue\n",
    "        \n",
    "        # 改圖片\n",
    "        for sliceIndex in range(5):\n",
    "            InputImageBGR = np.zeros((RowCutIndex, min(col, CutIndex), 3), dtype=np.uint8)       # Input \n",
    "            ResultImageBGR = np.zeros((RowCutIndex, min(col, CutIndex)), dtype=np.uint8)         # Result\n",
    "            \n",
    "            for r in range(RowCutIndex):\n",
    "                for c in range(min(col, CutIndex)):\n",
    "                    for colorIndex in range(3):\n",
    "                        # 原圖直接丟回去\n",
    "                        # B G R\n",
    "                        InputImageBGR[r][c][colorIndex] = OrgImageList[i + colorIndex][r  + sliceIndex * RowCutIndex][c]\n",
    "\n",
    "                        # 只有中間那張的結果\n",
    "                        if(colorIndex == 1):\n",
    "                            if(CheckIfIsBorder(LabelImageList[i + colorIndex], r  + sliceIndex * RowCutIndex, c)):\n",
    "                                ResultImageBGR[r][c] = 1\n",
    "                            else:\n",
    "                                ResultImageBGR[r][c] = 0\n",
    "                    \n",
    "                # 改一下結果\n",
    "                # 邊界後面的結果為 2\n",
    "                meet1 = False\n",
    "                for c in range(min(col, CutIndex)):\n",
    "                    if(meet1 == True and ResultImageBGR[r][c] == 1):\n",
    "                        continue\n",
    "                    elif(meet1 == True and ResultImageBGR[r][c] == 0):\n",
    "                        ResultImageBGR[r][c] = 2\n",
    "                    elif(meet1 == False and ResultImageBGR[r][c] == 1):\n",
    "                        meet1 = True\n",
    "                        \n",
    "                    \n",
    "                # 存出目錄\n",
    "                SaveLocation = Input_FileNameList[i * rowOffset + sliceIndex]\n",
    "                cv2.imwrite(SaveLocation, InputImageBGR)\n",
    "                SaveLocation = Trainning_FileNameList[i * rowOffset + sliceIndex]\n",
    "                cv2.imwrite(SaveLocation, ResultImageBGR)\n",
    "        \n",
    "    for i in reversed(deleteIndex):\n",
    "        del Input_FileNameList[i]\n",
    "        del Trainning_FileNameList[i]"
   ]
  },
  {
   "cell_type": "code",
   "execution_count": 12,
   "metadata": {},
   "outputs": [
    {
     "name": "stderr",
     "output_type": "stream",
     "text": [
      "100%|████████████████████████████████████████████████████████████████████████████████| 423/423 [25:33<00:00,  3.63s/it]\n"
     ]
    }
   ],
   "source": [
    "BGRWithBorder()"
   ]
  },
  {
   "cell_type": "markdown",
   "metadata": {},
   "source": [
    "## 寫 Train.txt\n",
    "---\n",
    "InputImage LabelImage "
   ]
  },
  {
   "cell_type": "code",
   "execution_count": 13,
   "metadata": {},
   "outputs": [],
   "source": [
    "# 檔案名字從 Windows 轉道 Ubuntu\n",
    "def FileNameWindowsToUbuntu(FileName):\n",
    "    global WindowsDataLocation, UbuntuDataLocation\n",
    "    return FileName.replace(WindowsDataLocation, UbuntuDataLocation)"
   ]
  },
  {
   "cell_type": "code",
   "execution_count": 14,
   "metadata": {},
   "outputs": [],
   "source": [
    "TrainScript = \"\"\n",
    "for i in range(len(Input_FileNameList)):\n",
    "    TrainScript += FileNameWindowsToUbuntu(Input_FileNameList[i]) + \" \" + \\\n",
    "                FileNameWindowsToUbuntu(Trainning_FileNameList[i]) + \"\\n\""
   ]
  },
  {
   "cell_type": "code",
   "execution_count": 15,
   "metadata": {},
   "outputs": [],
   "source": [
    "file = open(TrainTxtLocation, \"w\")\n",
    "file.write(TrainScript)\n",
    "file.close()"
   ]
  }
 ],
 "metadata": {
  "kernelspec": {
   "display_name": "Python 3",
   "language": "python",
   "name": "python3"
  },
  "language_info": {
   "codemirror_mode": {
    "name": "ipython",
    "version": 3
   },
   "file_extension": ".py",
   "mimetype": "text/x-python",
   "name": "python",
   "nbconvert_exporter": "python",
   "pygments_lexer": "ipython3",
   "version": "3.5.4"
  }
 },
 "nbformat": 4,
 "nbformat_minor": 2
}
