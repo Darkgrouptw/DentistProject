{
 "cells": [
  {
   "cell_type": "markdown",
   "metadata": {},
   "source": [
    "# OpenCV校正\n",
    "---\n",
    "要先安裝 Matlab.engine [網址](https://www.mathworks.com/help/matlab/matlab_external/install-the-matlab-engine-for-python.html)"
   ]
  },
  {
   "cell_type": "code",
   "execution_count": 1,
   "metadata": {},
   "outputs": [],
   "source": [
    "%matplotlib inline\n",
    "import sys\n",
    "import numpy as np\n",
    "import cv2\n",
    "import csv\n",
    "import matplotlib.pyplot as plt\n",
    "import math"
   ]
  },
  {
   "cell_type": "code",
   "execution_count": 2,
   "metadata": {},
   "outputs": [
    {
     "name": "stdout",
     "output_type": "stream",
     "text": [
      "DataSize:  (220, 1, 4)\n"
     ]
    }
   ],
   "source": [
    "# 讀 csv\n",
    "TotalData = []\n",
    "with open(\"mappingData.csv\", newline=\"\\n\") as csvfile:\n",
    "    # 抓資料進來\n",
    "    data = csv.reader(csvfile, delimiter=',')\n",
    "    \n",
    "    # Sum Data\n",
    "    for rowData in data:\n",
    "        # 把資料轉成數字\n",
    "        TempData = []\n",
    "        for colData in rowData:\n",
    "            TempData.append(float(colData))\n",
    "            \n",
    "        # 不加空白的東西\n",
    "        if len(TempData) > 0:\n",
    "            TotalData.append([TempData])\n",
    "        \n",
    "    \n",
    "TotalData = np.asarray(TotalData, dtype=np.float32)\n",
    "print(\"DataSize: \", TotalData.shape)"
   ]
  },
  {
   "cell_type": "code",
   "execution_count": 3,
   "metadata": {},
   "outputs": [
    {
     "data": {
      "text/plain": [
       "array([[252. ,  77. ,   9.5,   4.5]], dtype=float32)"
      ]
     },
     "execution_count": 3,
     "metadata": {},
     "output_type": "execute_result"
    }
   ],
   "source": [
    "# Test\n",
    "TotalData[0]"
   ]
  },
  {
   "cell_type": "markdown",
   "metadata": {},
   "source": [
    "## 抓資料的函式\n",
    "---"
   ]
  },
  {
   "cell_type": "code",
   "execution_count": 4,
   "metadata": {},
   "outputs": [],
   "source": [
    "# 分別抓出資料\n",
    "def GetData(TotalData):\n",
    "    rows, _, cols = TotalData.shape\n",
    "    objP = np.zeros([rows, cols - 2 + 1], np.float32)\n",
    "    objP[:, :2] = TotalData[:, 0, 2:]\n",
    "    \n",
    "    imgP = TotalData[:, :, :2]\n",
    "    dataSize, _, channels = imgP.shape\n",
    "    imgP = imgP.reshape([dataSize, channels])\n",
    "    imgP = np.array([imgP])\n",
    "    objP = np.array([objP])\n",
    "    print(imgP.shape, objP.shape)\n",
    "    \n",
    "    # objP = np.asarray(objP)\n",
    "    # imgP = np.asarray([imgP])\n",
    "    \n",
    "    return imgP, objP"
   ]
  },
  {
   "cell_type": "code",
   "execution_count": 5,
   "metadata": {},
   "outputs": [],
   "source": [
    "def GetMidIndex(objP):\n",
    "    oneIndex = []\n",
    "    nonOneIndex=  []\n",
    "    for i in range(objP.shape[1]):\n",
    "        objX, objY, _ = objP[0, i]\n",
    "        \n",
    "        objX = int(objX * 2)\n",
    "        objY = int(objY * 2)\n",
    "        if objX % 2 == 1 or objY % 2 == 1:\n",
    "            oneIndex.append(i)\n",
    "        else:\n",
    "            nonOneIndex.append(i)\n",
    "    oneIndex = np.array(oneIndex)\n",
    "    nonOneIndex = np.array(nonOneIndex)\n",
    "    return oneIndex, nonOneIndex"
   ]
  },
  {
   "cell_type": "code",
   "execution_count": 6,
   "metadata": {},
   "outputs": [
    {
     "name": "stdout",
     "output_type": "stream",
     "text": [
      "(1, 220, 2) (1, 220, 3)\n",
      "(164,) (56,)\n"
     ]
    }
   ],
   "source": [
    "imgP, objP = GetData(TotalData)\n",
    "indexArray, nonIndexArray = GetMidIndex(objP)\n",
    "print(indexArray.shape, nonIndexArray.shape)"
   ]
  },
  {
   "cell_type": "markdown",
   "metadata": {},
   "source": [
    "## 產生原圖\n",
    "---"
   ]
  },
  {
   "cell_type": "code",
   "execution_count": 7,
   "metadata": {},
   "outputs": [],
   "source": [
    "# 中心\n",
    "def RotatePointCloud(Point, CenterIndex = 116, RotateAngle = 0):\n",
    "    # 跑每一個點\n",
    "    RotateP = []\n",
    "    for i in range(len(Point)):\n",
    "        if i != CenterIndex:  # 判斷是否要轉\n",
    "            cx, cy = Point[CenterIndex] # Center\n",
    "            px, py = Point[i] # 現在的點\n",
    "            \n",
    "            qx = cx + math.cos(RotateAngle) * (px - cx) - math.sin(RotateAngle) * (py - cy)\n",
    "            qy = cy + math.sin(RotateAngle) * (px - cx) + math.cos(RotateAngle) * (py - cy)\n",
    "            RotateP.append([qx, qy])\n",
    "        else:\n",
    "            cx, cy = Point[CenterIndex] # Center\n",
    "            RotateP.append([cx, cy])\n",
    "    return RotateP"
   ]
  },
  {
   "cell_type": "code",
   "execution_count": 8,
   "metadata": {},
   "outputs": [
    {
     "name": "stdout",
     "output_type": "stream",
     "text": [
      "(1, 164, 2) (1, 164, 3)\n",
      "(1, 56, 2) (1, 56, 3)\n"
     ]
    }
   ],
   "source": [
    "# 旋轉一個角度\n",
    "rotateP = RotatePointCloud(imgP[0], 116, -4 * math.pi / 180)\n",
    "rotateP = np.array(rotateP, dtype=np.float32)\n",
    "\n",
    "caliRotateP = rotateP[indexArray]\n",
    "caliObjP = objP.reshape([-1, 3])[indexArray]\n",
    "predRotateP = rotateP[nonIndexArray]\n",
    "predObjP = objP.reshape([-1, 3])[nonIndexArray]\n",
    "\n",
    "caliRotateP = caliRotateP.reshape([1, -1, 2])\n",
    "predRotateP = predRotateP.reshape([1, -1, 2])\n",
    "\n",
    "caliObjP = caliObjP.reshape([1, -1, 3])\n",
    "predObjP = predObjP.reshape([1, -1, 3])\n",
    "\n",
    "print(caliRotateP.shape, caliObjP.shape)\n",
    "print(predRotateP.shape, predObjP.shape)"
   ]
  },
  {
   "cell_type": "code",
   "execution_count": 9,
   "metadata": {},
   "outputs": [
    {
     "data": {
      "image/png": "[encoded data removed]",
      "text/plain": [
       "<Figure size 432x288 with 1 Axes>"
      ]
     },
     "metadata": {
      "needs_background": "light"
     },
     "output_type": "display_data"
    }
   ],
   "source": [
    "# 產生圖\n",
    "fig = np.zeros([260, 260], np.float32)\n",
    "\n",
    "_, size, _ = caliRotateP.shape\n",
    "for i in range(size):\n",
    "    px, py = caliRotateP[0, i]\n",
    "    px = int(px)\n",
    "    py = int(py)\n",
    "    cv2.circle(fig, (px, py), 1, (255, 0, 0), 2)\n",
    "# plt.imshow(fig, cmap='gray')\n",
    "plt.imshow(fig)\n",
    "plt.show()\n",
    "# cv2.imwrite('imgs/a.png', fig)"
   ]
  },
  {
   "cell_type": "code",
   "execution_count": 10,
   "metadata": {},
   "outputs": [],
   "source": [
    "# print(imgP[0, 116], objP[0, 116])"
   ]
  },
  {
   "cell_type": "markdown",
   "metadata": {},
   "source": [
    "## 校正\n",
    "---"
   ]
  },
  {
   "cell_type": "code",
   "execution_count": 11,
   "metadata": {
    "scrolled": false
   },
   "outputs": [],
   "source": [
    "# gray = cv2.imread(\"CalibrationPNG.png\", cv2.IMREAD_GRAYSCALE)\n",
    "h, w = fig.shape[:2]\n",
    "ret, mtx, dist, rvecs, tvecs = cv2.calibrateCamera(caliObjP, caliRotateP, fig.shape[::-1],None,None)\n",
    "newcameramtx, roi=cv2.getOptimalNewCameraMatrix(mtx,dist,(w,h),1,(w,h))"
   ]
  },
  {
   "cell_type": "markdown",
   "metadata": {},
   "source": [
    "## 直接對應轉點\n",
    "---"
   ]
  },
  {
   "cell_type": "code",
   "execution_count": 12,
   "metadata": {},
   "outputs": [],
   "source": [
    "UnDistort = cv2.undistortPoints(caliRotateP, mtx, dist, None, newcameramtx)"
   ]
  },
  {
   "cell_type": "code",
   "execution_count": 13,
   "metadata": {
    "scrolled": false
   },
   "outputs": [
    {
     "data": {
      "image/png": "[encoded data removed]",
      "text/plain": [
       "<Figure size 1080x720 with 1 Axes>"
      ]
     },
     "metadata": {
      "needs_background": "light"
     },
     "output_type": "display_data"
    }
   ],
   "source": [
    "# plt.axis(\"off\")\n",
    "plt.figure(figsize=(15, 10))\n",
    "plt.xlim(0, 260)\n",
    "plt.ylim(0, 260)\n",
    "plt.scatter(caliRotateP[0, :, 0], caliRotateP[0, :, 1], c='r', marker='x')\n",
    "plt.scatter(UnDistort[0,:,0], UnDistort[0,:,1], c='b', marker='.')\n",
    "plt.show()"
   ]
  },
  {
   "cell_type": "markdown",
   "metadata": {},
   "source": [
    "## 直接轉圖途用\n",
    "---"
   ]
  },
  {
   "cell_type": "code",
   "execution_count": 14,
   "metadata": {},
   "outputs": [],
   "source": [
    "# cv2.imread(\"\")\n",
    "# UnDistort = cv2.undistortPoints(rotateP, mtx, dist, None, newcameramtx)"
   ]
  },
  {
   "cell_type": "markdown",
   "metadata": {},
   "source": [
    "## 輸出成檔案\n",
    "---\n",
    "寫出四個檔案\n",
    "1. 原始 Calibration Rotate 點\n",
    "2. 原始 Valid 的 Rotate 點\n",
    "3. 再來 Undistort Calibration Rotate 點\n",
    "4. 在 Undistort Valid 的 Rotate 點"
   ]
  },
  {
   "cell_type": "code",
   "execution_count": 15,
   "metadata": {},
   "outputs": [],
   "source": [
    "# 寫 Calibration 的點\n",
    "file = open(\"Calibration.csv\", mode=\"w\")\n",
    "\n",
    "for i in range(caliRotateP.shape[1]):\n",
    "    ux, uy = caliRotateP[0, i]\n",
    "    ox, oy, _ = caliObjP[0, i]\n",
    "    file.write(str(ux) + \",\" + str(uy) + \",\" + str(ox) + \",\" + str(oy) + \"\\n\")\n",
    "file.close()"
   ]
  },
  {
   "cell_type": "code",
   "execution_count": 16,
   "metadata": {},
   "outputs": [],
   "source": [
    "# 寫 Calibration 的點\n",
    "file = open(\"Valid_Calibration.csv\", mode=\"w\")\n",
    "\n",
    "for i in range(predRotateP.shape[1]):\n",
    "    ux, uy = predRotateP[0, i]\n",
    "    ox, oy, _ = predObjP[0, i]\n",
    "    file.write(str(ux) + \",\" + str(uy) + \",\" + str(ox) + \",\" + str(oy) + \"\\n\")\n",
    "file.close()"
   ]
  },
  {
   "cell_type": "code",
   "execution_count": 17,
   "metadata": {},
   "outputs": [
    {
     "name": "stdout",
     "output_type": "stream",
     "text": [
      "(1, 164, 2)\n"
     ]
    }
   ],
   "source": [
    "# 寫 UnDistort 的點\n",
    "TotalData = []\n",
    "file = open(\"UnDistort_Calibration.csv\", mode=\"w\")\n",
    "\n",
    "# Distort\n",
    "UnDistort_Calibration = cv2.undistortPoints(caliRotateP, mtx, dist, None, newcameramtx)\n",
    "print(UnDistort_Calibration.shape)\n",
    "\n",
    "for i in range(UnDistort_Calibration.shape[1]):\n",
    "    ux, uy = UnDistort_Calibration[0, i]\n",
    "    ox, oy, _ = caliObjP[0, i]\n",
    "    file.write(str(ux) + \",\" + str(uy) + \",\" + str(ox) + \",\" + str(oy) + \"\\n\")\n",
    "file.close()"
   ]
  },
  {
   "cell_type": "code",
   "execution_count": 18,
   "metadata": {},
   "outputs": [
    {
     "name": "stdout",
     "output_type": "stream",
     "text": [
      "(1, 56, 2)\n"
     ]
    }
   ],
   "source": [
    "# 寫 UnDistort 的點\n",
    "TotalData = []\n",
    "file = open(\"UnDistort_Valid_Calibration.csv\", mode=\"w\")\n",
    "\n",
    "# Distort\n",
    "UnDistort_Predict = cv2.undistortPoints(predRotateP, mtx, dist, None, newcameramtx)\n",
    "print(UnDistort_Predict.shape)\n",
    "\n",
    "for i in range(UnDistort_Predict.shape[1]):\n",
    "    ux, uy = UnDistort_Predict[0, i]\n",
    "    ox, oy, _ = predObjP[0, i]\n",
    "    file.write(str(ux) + \",\" + str(uy) + \",\" + str(ox) + \",\" + str(oy) + \"\\n\")\n",
    "file.close()"
   ]
  },
  {
   "cell_type": "markdown",
   "metadata": {},
   "source": [
    "## 轉成把資料轉到 C++ \n",
    "---"
   ]
  },
  {
   "cell_type": "code",
   "execution_count": 19,
   "metadata": {},
   "outputs": [],
   "source": [
    "# 寫 Calibration 的點\n",
    "file = open(\"Calibration_C.csv\", mode=\"w\")\n",
    "\n",
    "for i in range(rotateP.shape[0]):\n",
    "    ux, uy = rotateP[i]\n",
    "    ox, oy, _ = objP[0, i]\n",
    "    file.write(str(ux) + \",\" + str(uy) + \",\" + str(ox) + \",\" + str(oy) + \"\\n\")\n",
    "file.close()"
   ]
  }
 ],
 "metadata": {
  "kernelspec": {
   "display_name": "Python 3",
   "language": "python",
   "name": "python3"
  },
  "language_info": {
   "codemirror_mode": {
    "name": "ipython",
    "version": 3
   },
   "file_extension": ".py",
   "mimetype": "text/x-python",
   "name": "python",
   "nbconvert_exporter": "python",
   "pygments_lexer": "ipython3",
   "version": "3.6.7"
  }
 },
 "nbformat": 4,
 "nbformat_minor": 2
}
